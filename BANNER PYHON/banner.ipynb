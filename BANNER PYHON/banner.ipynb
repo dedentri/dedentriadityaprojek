{
 "cells": [
  {
   "cell_type": "code",
   "execution_count": 1,
   "metadata": {},
   "outputs": [
    {
     "name": "stdout",
     "output_type": "stream",
     "text": [
      "********************************************************************************\n",
      "                                                                 \n",
      "     ____  ___  _________       _____ _________________   ______________\n",
      "   / __ \\/   |/_  __/   |     / ___// ____/  _/ ____/ | / / ____/ ____/\n",
      "  / / / / /| | / / / /| |     \\__ \\/ /    / // __/ /  |/ / /   / __/   \n",
      " / /_/ / ___ |/ / / ___ |    ___/ / /____/ // /___/ /|  / /___/ /___   \n",
      "/_____/_/  |_/_/ /_/  |_|   /____/\\____/___/_____/_/ |_/\\____/_____/ \n",
      "                                                                 \n",
      " Version: 1.0.0                                                   \n",
      " Author: Coded by Your Name                                        \n",
      " Email: your.email@example.com                                      \n",
      "                                                                 \n",
      "********************************************************************************\n"
     ]
    }
   ],
   "source": [
    "import pyfiglet\n",
    "\n",
    "def create_banner(name, version, author, email):\n",
    "    # Menggunakan pyfiglet untuk membuat teks ASCII\n",
    "    figlet = pyfiglet.Figlet(font='slant')  # Anda bisa mengganti font jika diinginkan\n",
    "    name_text = figlet.renderText(name)\n",
    "    \n",
    "    # Membuat garis dekoratif\n",
    "    border = '*' * 80\n",
    "    padding = ' ' + ' ' * 63 + ' '\n",
    "    \n",
    "    # Menyusun banner\n",
    "    banner_lines = [\n",
    "        border,\n",
    "        padding,\n",
    "        f' {name_text.rstrip()} ',\n",
    "        padding,\n",
    "        f' Version: {version:<56}',\n",
    "        f' Author: {author:<58}',\n",
    "        f' Email: {email:<60}',\n",
    "\n",
    "        padding,\n",
    "        border\n",
    "    ]\n",
    "    \n",
    "    # Menampilkan banner\n",
    "    for line in banner_lines:\n",
    "        print(line)\n",
    "\n",
    "# Pengaturan informasi untuk banner\n",
    "name = \"DATA SCIENCE\"\n",
    "version = \"1.0.0\"\n",
    "author = \"Coded by Your Name\"\n",
    "email = \"your.email@example.com\"\n",
    "\n",
    "create_banner(name, version, author, email)\n"
   ]
  }
 ],
 "metadata": {
  "kernelspec": {
   "display_name": "Python 3",
   "language": "python",
   "name": "python3"
  },
  "language_info": {
   "codemirror_mode": {
    "name": "ipython",
    "version": 3
   },
   "file_extension": ".py",
   "mimetype": "text/x-python",
   "name": "python",
   "nbconvert_exporter": "python",
   "pygments_lexer": "ipython3",
   "version": "3.12.3"
  }
 },
 "nbformat": 4,
 "nbformat_minor": 2
}
