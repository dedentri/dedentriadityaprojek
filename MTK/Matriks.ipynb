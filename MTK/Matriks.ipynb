{
 "cells": [
  {
   "cell_type": "code",
   "execution_count": 1,
   "metadata": {},
   "outputs": [],
   "source": [
    "import numpy as np"
   ]
  },
  {
   "cell_type": "markdown",
   "metadata": {},
   "source": [
    "# **MENGAKSES ELEMEN MATRIKS**"
   ]
  },
  {
   "cell_type": "code",
   "execution_count": 4,
   "metadata": {},
   "outputs": [
    {
     "name": "stdout",
     "output_type": "stream",
     "text": [
      "5 0 2 6 "
     ]
    },
    {
     "data": {
      "text/plain": [
       "<function print(*args, sep=' ', end='\\n', file=None, flush=False)>"
      ]
     },
     "execution_count": 4,
     "metadata": {},
     "output_type": "execute_result"
    }
   ],
   "source": [
    "matrik = [\n",
    "    [5, 0],\n",
    "    [2, 6],\n",
    "]\n",
    "\n",
    "for x in range(0, len(matrik)):\n",
    "    for y in range(0, len(matrik[0])):\n",
    "        print(matrik[x][y], end= ' '),\n",
    "print"
   ]
  },
  {
   "cell_type": "markdown",
   "metadata": {},
   "source": [
    "# **PENJUMLAHAN MATRIKS**"
   ]
  },
  {
   "cell_type": "code",
   "execution_count": 1,
   "metadata": {},
   "outputs": [
    {
     "name": "stdout",
     "output_type": "stream",
     "text": [
      "5 3 10 -6 "
     ]
    },
    {
     "data": {
      "text/plain": [
       "<function print(*args, sep=' ', end='\\n', file=None, flush=False)>"
      ]
     },
     "execution_count": 1,
     "metadata": {},
     "output_type": "execute_result"
    }
   ],
   "source": [
    "mat1 = [\n",
    "    [2, 4],\n",
    "    [6, -8],\n",
    "]\n",
    "\n",
    "mat2 = [\n",
    "    [3, -1],\n",
    "    [4, 2],\n",
    "]\n",
    "\n",
    "for x in range(0, len(mat1)):\n",
    "    for y in range(0, len(mat1[0])):\n",
    "        print(mat1[x][y] + mat2[x][y], end=' ')\n",
    "print"
   ]
  },
  {
   "cell_type": "markdown",
   "metadata": {},
   "source": [
    "# ------------------------------------------------------------------------------------------------"
   ]
  },
  {
   "cell_type": "code",
   "execution_count": 15,
   "metadata": {},
   "outputs": [
    {
     "name": "stdout",
     "output_type": "stream",
     "text": [
      "2 3 7 5 3 6 7 3 3 "
     ]
    },
    {
     "data": {
      "text/plain": [
       "<function print(*args, sep=' ', end='\\n', file=None, flush=False)>"
      ]
     },
     "execution_count": 15,
     "metadata": {},
     "output_type": "execute_result"
    }
   ],
   "source": [
    "mat3 = [\n",
    "    [1, 3, 2],\n",
    "    [1, 1, 3],\n",
    "    [5, 2, 1],\n",
    "]\n",
    "\n",
    "mat4 = [\n",
    "    [1, 0, 5],\n",
    "    [4, 2, 3],\n",
    "    [2, 1, 2],\n",
    "]\n",
    "\n",
    "for x in range(0, len(mat3)):\n",
    "    for y in range(0, len(mat3[0])):\n",
    "        print(mat3[x][y] + mat4[x][y], end=' ')\n",
    "print"
   ]
  },
  {
   "cell_type": "code",
   "execution_count": 13,
   "metadata": {},
   "outputs": [
    {
     "name": "stdout",
     "output_type": "stream",
     "text": [
      "[2, 3, 7]\n",
      "[5, 3, 6]\n",
      "[7, 3, 3]\n"
     ]
    }
   ],
   "source": [
    "mat3 = [\n",
    "    [1, 3, 2],\n",
    "    [1, 1, 3],\n",
    "    [5, 2, 1],\n",
    "]\n",
    "\n",
    "mat4 = [\n",
    "    [1, 0, 5],\n",
    "    [4, 2, 3],\n",
    "    [2, 1, 2],\n",
    "]\n",
    "\n",
    "result = []\n",
    "\n",
    "for x in range(0, len(mat3)):\n",
    "    row = []\n",
    "    for y in range(0, len(mat3[0])):\n",
    "        row.append(mat3[x][y] + mat4[x][y])\n",
    "    result.append(row)\n",
    "\n",
    "for row in result:\n",
    "    print(row)"
   ]
  },
  {
   "cell_type": "markdown",
   "metadata": {},
   "source": [
    "# **PENGURANGAN MATRIKS**"
   ]
  },
  {
   "cell_type": "code",
   "execution_count": 16,
   "metadata": {},
   "outputs": [
    {
     "name": "stdout",
     "output_type": "stream",
     "text": [
      "[0, 3, -3]\n",
      "[-3, -1, 0]\n",
      "[3, 1, -1]\n"
     ]
    }
   ],
   "source": [
    "mat3 = [\n",
    "    [1, 3, 2],\n",
    "    [1, 1, 3],\n",
    "    [5, 2, 1],\n",
    "]\n",
    "\n",
    "mat4 = [\n",
    "    [1, 0, 5],\n",
    "    [4, 2, 3],\n",
    "    [2, 1, 2],\n",
    "]\n",
    "\n",
    "result = []\n",
    "\n",
    "for x in range(0, len(mat3)):\n",
    "    row = []\n",
    "    for y in range(0, len(mat3[0])):\n",
    "        row.append(mat3[x][y] - mat4[x][y])\n",
    "    result.append(row)\n",
    "\n",
    "for row in result:\n",
    "    print(row)"
   ]
  },
  {
   "cell_type": "markdown",
   "metadata": {},
   "source": [
    "# **PERKALIAN MATRIKS**"
   ]
  },
  {
   "cell_type": "code",
   "execution_count": 23,
   "metadata": {},
   "outputs": [
    {
     "name": "stdout",
     "output_type": "stream",
     "text": [
      "[21, 25, 20]\n",
      "[19, 22, 23]\n",
      "[17, 17, 17]\n"
     ]
    }
   ],
   "source": [
    "mat5 = [\n",
    "    [4, 2, 3],\n",
    "    [2, 3, 3],\n",
    "    [5, 2, 1],\n",
    "]\n",
    "\n",
    "mat6 = [\n",
    "    [2, 2, 1],\n",
    "    [2, 1, 5],\n",
    "    [3, 5, 2],\n",
    "]\n",
    "\n",
    "# Membuat matriks hasil perkalian\n",
    "mat7 = []\n",
    "\n",
    "for x in range(len(mat5)):\n",
    "    row = []\n",
    "    for y in range(len(mat6[0])):\n",
    "        total = 0\n",
    "        for z in range(len(mat5[0])):\n",
    "            total += mat5[x][z] * mat6[z][y]\n",
    "        row.append(total)\n",
    "    mat7.append(row)\n",
    "\n",
    "# Menampilkan hasil perkalian matriks\n",
    "for row in mat7:\n",
    "    print(row)\n"
   ]
  }
 ],
 "metadata": {
  "kernelspec": {
   "display_name": "Python 3",
   "language": "python",
   "name": "python3"
  },
  "language_info": {
   "codemirror_mode": {
    "name": "ipython",
    "version": 3
   },
   "file_extension": ".py",
   "mimetype": "text/x-python",
   "name": "python",
   "nbconvert_exporter": "python",
   "pygments_lexer": "ipython3",
   "version": "3.12.3"
  }
 },
 "nbformat": 4,
 "nbformat_minor": 2
}
