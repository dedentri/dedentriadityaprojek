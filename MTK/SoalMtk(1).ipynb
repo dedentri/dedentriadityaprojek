{
 "cells": [
  {
   "cell_type": "markdown",
   "metadata": {},
   "source": [
    "SOAL MATEMATIKA:\n",
    "\n",
    "A. Gambarkan diagram pencar data tersebut\n",
    "\n",
    "B. Bagaimana tren data pada diagram\n",
    "\n",
    "C. Bagaimana korelasi antara waktu untuk menggunakan media sosial dan membaca buku\n",
    "\n",
    "D. Bagaimana pengaruh waktu menggunakan media sosial terhadap waktu membaca buku"
   ]
  },
  {
   "cell_type": "code",
   "execution_count": 1,
   "metadata": {},
   "outputs": [],
   "source": [
    "import pandas as pd\n",
    "import numpy as np"
   ]
  },
  {
   "cell_type": "code",
   "execution_count": 2,
   "metadata": {},
   "outputs": [
    {
     "data": {
      "text/html": [
       "<div>\n",
       "<style scoped>\n",
       "    .dataframe tbody tr th:only-of-type {\n",
       "        vertical-align: middle;\n",
       "    }\n",
       "\n",
       "    .dataframe tbody tr th {\n",
       "        vertical-align: top;\n",
       "    }\n",
       "\n",
       "    .dataframe thead th {\n",
       "        text-align: right;\n",
       "    }\n",
       "</style>\n",
       "<table border=\"1\" class=\"dataframe\">\n",
       "  <thead>\n",
       "    <tr style=\"text-align: right;\">\n",
       "      <th></th>\n",
       "      <th>Nama</th>\n",
       "      <th>x</th>\n",
       "      <th>y</th>\n",
       "    </tr>\n",
       "  </thead>\n",
       "  <tbody>\n",
       "    <tr>\n",
       "      <th>0</th>\n",
       "      <td>A</td>\n",
       "      <td>5</td>\n",
       "      <td>2.0</td>\n",
       "    </tr>\n",
       "    <tr>\n",
       "      <th>1</th>\n",
       "      <td>B</td>\n",
       "      <td>5</td>\n",
       "      <td>1.5</td>\n",
       "    </tr>\n",
       "    <tr>\n",
       "      <th>2</th>\n",
       "      <td>C</td>\n",
       "      <td>6</td>\n",
       "      <td>2.0</td>\n",
       "    </tr>\n",
       "    <tr>\n",
       "      <th>3</th>\n",
       "      <td>D</td>\n",
       "      <td>4</td>\n",
       "      <td>3.0</td>\n",
       "    </tr>\n",
       "    <tr>\n",
       "      <th>4</th>\n",
       "      <td>E</td>\n",
       "      <td>7</td>\n",
       "      <td>2.0</td>\n",
       "    </tr>\n",
       "    <tr>\n",
       "      <th>5</th>\n",
       "      <td>F</td>\n",
       "      <td>6</td>\n",
       "      <td>1.5</td>\n",
       "    </tr>\n",
       "    <tr>\n",
       "      <th>6</th>\n",
       "      <td>G</td>\n",
       "      <td>7</td>\n",
       "      <td>1.0</td>\n",
       "    </tr>\n",
       "    <tr>\n",
       "      <th>7</th>\n",
       "      <td>H</td>\n",
       "      <td>8</td>\n",
       "      <td>1.0</td>\n",
       "    </tr>\n",
       "    <tr>\n",
       "      <th>8</th>\n",
       "      <td>I</td>\n",
       "      <td>4</td>\n",
       "      <td>2.0</td>\n",
       "    </tr>\n",
       "    <tr>\n",
       "      <th>9</th>\n",
       "      <td>J</td>\n",
       "      <td>5</td>\n",
       "      <td>2.5</td>\n",
       "    </tr>\n",
       "  </tbody>\n",
       "</table>\n",
       "</div>"
      ],
      "text/plain": [
       "  Nama  x    y\n",
       "0    A  5  2.0\n",
       "1    B  5  1.5\n",
       "2    C  6  2.0\n",
       "3    D  4  3.0\n",
       "4    E  7  2.0\n",
       "5    F  6  1.5\n",
       "6    G  7  1.0\n",
       "7    H  8  1.0\n",
       "8    I  4  2.0\n",
       "9    J  5  2.5"
      ]
     },
     "execution_count": 2,
     "metadata": {},
     "output_type": "execute_result"
    }
   ],
   "source": [
    "df = {\n",
    "    'Nama': ['A', 'B', 'C', 'D', 'E', 'F', 'G', 'H', 'I', 'J'],\n",
    "    'x': [5, 5, 6, 4, 7, 6, 7, 8, 4, 5],\n",
    "    'y': [2, 1.5, 2, 3, 2, 1.5, 1, 1, 2, 2.5]\n",
    "}\n",
    "\n",
    "df = pd.DataFrame(df)\n",
    "df"
   ]
  },
  {
   "cell_type": "markdown",
   "metadata": {},
   "source": [
    "JAWAB"
   ]
  },
  {
   "cell_type": "code",
   "execution_count": null,
   "metadata": {},
   "outputs": [],
   "source": [
    "# Menghitung koefisien menggunakan metode Least Squares\n",
    "X = np.vstack([np.ones(len(df)), df['x']]).T\n",
    "coefficients = np.linalg.inv(X.T.dot(X)).dot(X.T).dot(df['y'])\n",
    "\n",
    "# Membuat garis regresi linier\n",
    "x_values = np.linspace(df['x'].min(), df['x'].max(), 100)\n",
    "y_values = coefficients[0] + coefficients[1] * x_values"
   ]
  },
  {
   "cell_type": "code",
   "execution_count": 7,
   "metadata": {},
   "outputs": [
    {
     "name": "stdout",
     "output_type": "stream",
     "text": [
      "A. Gambarkan diagram pencar data tersebut\n"
     ]
    },
    {
     "data": {
      "image/png": "[encoded data removed]",
      "text/plain": [
       "<Figure size 800x600 with 1 Axes>"
      ]
     },
     "metadata": {},
     "output_type": "display_data"
    },
    {
     "name": "stdout",
     "output_type": "stream",
     "text": [
      "B. Bagaimana tren data pada diagram? Tren pada diagram adalah linier\n"
     ]
    }
   ],
   "source": [
    "print(\"A. Gambarkan diagram pencar data tersebut\")\n",
    "import matplotlib.pyplot as plt\n",
    "# Visualisasi dengan diagram pencar dan garis regresi linier\n",
    "plt.figure(figsize=(8, 6))\n",
    "plt.scatter(df['x'], df['y'], color='blue', label='Data')\n",
    "plt.plot(x_values, y_values, color='red', label='Regresi Linier')\n",
    "plt.title('Diagram Pencar Data dengan Garis Regresi Linier')\n",
    "plt.xlabel('Nilai x')\n",
    "plt.ylabel('Nilai y')\n",
    "plt.legend()\n",
    "plt.grid(True)\n",
    "plt.show()\n",
    "print(\"B. Bagaimana tren data pada diagram? Tren pada diagram adalah linier\")"
   ]
  },
  {
   "cell_type": "code",
   "execution_count": 13,
   "metadata": {},
   "outputs": [
    {
     "name": "stdout",
     "output_type": "stream",
     "text": [
      "C. Bagaimana korelasi antara waktu untuk menggunakan media sosial dan membaca buku\n",
      "Korelasi antara x dan y adalah:  -0.7234424749631828\n",
      "====================\n",
      "D. Bagaimana pengaruh waktu menggunakan media sosial terhadap waktu membaca buku?\n",
      "dengan korelasi yang menunjukan angka -0.72 maka itu adalah korelasi negatif\n",
      "yang menunjukan bahwa semakin banyak waktu membuka media sosial maka kemungkinan semakin sedikit waktu yang tersisa untuk membaca buku\n"
     ]
    }
   ],
   "source": [
    "korelasi = df['x'].corr(df['y'])\n",
    "print(\"C. Bagaimana korelasi antara waktu untuk menggunakan media sosial dan membaca buku\")\n",
    "print(\"Korelasi antara x dan y adalah: \", korelasi)\n",
    "print(20*\"=\")\n",
    "print(\"D. Bagaimana pengaruh waktu menggunakan media sosial terhadap waktu membaca buku?\")\n",
    "print(\"dengan korelasi yang menunjukan angka -0.72 maka itu adalah korelasi negatif\")\n",
    "print(\"yang menunjukan bahwa semakin banyak waktu membuka media sosial maka kemungkinan semakin sedikit waktu yang tersisa untuk membaca buku\")"
   ]
  }
 ],
 "metadata": {
  "kernelspec": {
   "display_name": "Python 3",
   "language": "python",
   "name": "python3"
  },
  "language_info": {
   "codemirror_mode": {
    "name": "ipython",
    "version": 3
   },
   "file_extension": ".py",
   "mimetype": "text/x-python",
   "name": "python",
   "nbconvert_exporter": "python",
   "pygments_lexer": "ipython3",
   "version": "3.11.5"
  }
 },
 "nbformat": 4,
 "nbformat_minor": 2
}
